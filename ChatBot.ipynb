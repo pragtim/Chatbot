{
  "nbformat": 4,
  "nbformat_minor": 0,
  "metadata": {
    "colab": {
      "name": "ChatBot.ipynb",
      "provenance": [],
      "toc_visible": true,
      "authorship_tag": "ABX9TyMI6J131zdPw7dAEumDMkBC"
    },
    "kernelspec": {
      "name": "python3",
      "display_name": "Python 3"
    },
    "language_info": {
      "name": "python"
    }
  },
  "cells": [
    {
      "cell_type": "code",
      "metadata": {
        "id": "WYpNSelkI9A5"
      },
      "source": [
        "import numpy as np\n",
        "import nltk\n",
        "import string\n",
        "import random"
      ],
      "execution_count": 1,
      "outputs": []
    },
    {
      "cell_type": "markdown",
      "metadata": {
        "id": "8juBk9i2JM5X"
      },
      "source": [
        "Importing and reading the corpus\n"
      ]
    },
    {
      "cell_type": "code",
      "metadata": {
        "colab": {
          "base_uri": "https://localhost:8080/"
        },
        "id": "CWdbm5gPJHju",
        "outputId": "c1370214-025a-4454-db07-874ec2feb152"
      },
      "source": [
        "f = open('chatbot.txt','r',errors = 'ignore')\n",
        "raw_doc = f.read()\n",
        "raw_doc = raw_doc.lower()\n",
        "nltk.download('punkt')\n",
        "nltk.download('wordnet')\n",
        "sent_tokens = nltk.sent_tokenize(raw_doc)\n",
        "word_tokens = nltk.word_tokenize(raw_doc)\n"
      ],
      "execution_count": 3,
      "outputs": [
        {
          "output_type": "stream",
          "text": [
            "[nltk_data] Downloading package punkt to /root/nltk_data...\n",
            "[nltk_data]   Unzipping tokenizers/punkt.zip.\n",
            "[nltk_data] Downloading package wordnet to /root/nltk_data...\n",
            "[nltk_data]   Unzipping corpora/wordnet.zip.\n"
          ],
          "name": "stdout"
        }
      ]
    },
    {
      "cell_type": "code",
      "metadata": {
        "colab": {
          "base_uri": "https://localhost:8080/"
        },
        "id": "kqlVKaPBQw9Y",
        "outputId": "d24db8ad-6418-49c1-a476-193b9009e671"
      },
      "source": [
        "sent_tokens[:2]"
      ],
      "execution_count": 4,
      "outputs": [
        {
          "output_type": "execute_result",
          "data": {
            "text/plain": [
              "['data science is an interdisciplinary field that uses scientific methods, processes, algorithms and systems to extract knowledge and insights from structured and unstructured data,[1][2] and apply knowledge and actionable insights from data across a broad range of application domains.',\n",
              " 'data science is related to data mining, machine learning and big data.']"
            ]
          },
          "metadata": {},
          "execution_count": 4
        }
      ]
    },
    {
      "cell_type": "code",
      "metadata": {
        "colab": {
          "base_uri": "https://localhost:8080/"
        },
        "id": "xTz2VkBEQ-Z9",
        "outputId": "9282a28f-907d-4b93-8f71-a1a1f0776a2f"
      },
      "source": [
        "word_tokens[:5]"
      ],
      "execution_count": 5,
      "outputs": [
        {
          "output_type": "execute_result",
          "data": {
            "text/plain": [
              "['data', 'science', 'is', 'an', 'interdisciplinary']"
            ]
          },
          "metadata": {},
          "execution_count": 5
        }
      ]
    },
    {
      "cell_type": "markdown",
      "metadata": {
        "id": "BHDEtx5uRgxK"
      },
      "source": [
        "Text Preprocessing\n"
      ]
    },
    {
      "cell_type": "code",
      "metadata": {
        "id": "NIT2x7_4RCC8"
      },
      "source": [
        "lemmer = nltk.stem.WordNetLemmatizer()\n",
        "\n",
        "def lem_tokens(tokens):\n",
        "  return [lemmer.lemmatize(token) for token in tokens]\n",
        "\n",
        "remove_punct_dict = dict((ord(punct),None) for punct in string.punctuation)\n",
        "def lem_normalize(text):\n",
        "  return lem_tokens(nltk.word_tokenize(text.lower().translate(remove_punct_dict)))\n"
      ],
      "execution_count": 6,
      "outputs": []
    },
    {
      "cell_type": "markdown",
      "metadata": {
        "id": "bJhXI_i7UEU0"
      },
      "source": [
        "Greeting Part"
      ]
    },
    {
      "cell_type": "code",
      "metadata": {
        "id": "KXa3DcBWTwkm"
      },
      "source": [
        "greet_inputs = (\"hello\" , \"hi\",\"greetings\",\"sup\",\"what's up\" , \"hey\")\n",
        "greet_responses = (\"hi\",\"hey\",\"*nods*\",\"hi there\",\"hello\")\n",
        "\n",
        "def greet(sentence):\n",
        "  for word in sentence.split():\n",
        "    if word.lower() in greet_inputs:\n",
        "      return random.choice(greet_responses)"
      ],
      "execution_count": 7,
      "outputs": []
    },
    {
      "cell_type": "markdown",
      "metadata": {
        "id": "d-_9g-0kXVgv"
      },
      "source": [
        "Response Generator"
      ]
    },
    {
      "cell_type": "code",
      "metadata": {
        "id": "LXpRRlfVVML6"
      },
      "source": [
        "from sklearn.feature_extraction.text import TfidfVectorizer\n",
        "from sklearn.metrics.pairwise import cosine_similarity\n"
      ],
      "execution_count": 8,
      "outputs": []
    },
    {
      "cell_type": "code",
      "metadata": {
        "id": "1WCVH3qfXT2R"
      },
      "source": [
        "def response(user_response):\n",
        "  robo1_response=''\n",
        "  TfidVec = TfidfVectorizer(tokenizer=lem_normalize,stop_words = 'english')\n",
        "  tfidf = TfidVec.fit_transform(sent_tokens)\n",
        "  vals = cosine_similarity(tfidf[-1],tfidf)\n",
        "  idx = vals.argsort()[0][-2]\n",
        "  flat = vals.flatten()\n",
        "  flat.sort()\n",
        "  req_tfidf = flat[-2]\n",
        "  if req_tfidf==0:\n",
        "    robo1_response = robo1_response +\"I am sorry!I don't understand you\"\n",
        "    return robo1_response\n",
        "  else:\n",
        "    robo1_response = robo1_response + sent_tokens[idx]\n",
        "    return robo1_response"
      ],
      "execution_count": 9,
      "outputs": []
    },
    {
      "cell_type": "markdown",
      "metadata": {
        "id": "hoen-5_HdBAy"
      },
      "source": [
        "Defining conversation start/end protocols"
      ]
    },
    {
      "cell_type": "code",
      "metadata": {
        "colab": {
          "base_uri": "https://localhost:8080/"
        },
        "id": "b4T39rzAb5ZC",
        "outputId": "eb3162d7-335d-4889-9c9a-ac9d2f70d451"
      },
      "source": [
        "flag = True\n",
        "print(\"BOT: Hey my name is Dante.Let's have a conversation! Also,if you want to exit at any time,just type Bye!\")\n",
        "while flag==True :\n",
        "  user_response = input()\n",
        "  user_response = user_response.lower()\n",
        "  if user_response !='bye' :\n",
        "    if user_response in ('thanks','thank you'):\n",
        "      flag = False\n",
        "      print(\"BOT: You are welcome.\")\n",
        "    else:\n",
        "      if greet(user_response)!=None :\n",
        "        print(\"BOT: \"+greet(user_response))\n",
        "      else:\n",
        "        sent_tokens.append(user_response)\n",
        "        word_tokens = word_tokens + nltk.word_tokenize(user_response)\n",
        "        final_words = list(set(word_tokens))\n",
        "  else :\n",
        "    flag = False\n",
        "    print(\"BOT: Goodbye, Take Care\")\n"
      ],
      "execution_count": 11,
      "outputs": [
        {
          "output_type": "stream",
          "text": [
            "BOT: Hey my name is Dante.Let's have a conversation! Also,if you want to exit at any time,just type Bye!\n",
            "hi\n",
            "BOT: hi there\n",
            "how are you\n",
            "bye\n",
            "BOT: Goodbye, Take Care\n"
          ],
          "name": "stdout"
        }
      ]
    },
    {
      "cell_type": "code",
      "metadata": {
        "id": "ssUtIe5ohwke"
      },
      "source": [
        ""
      ],
      "execution_count": null,
      "outputs": []
    }
  ]
}